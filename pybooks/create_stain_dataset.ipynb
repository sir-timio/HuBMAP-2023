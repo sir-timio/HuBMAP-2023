{
 "cells": [
  {
   "cell_type": "code",
   "execution_count": 2,
   "id": "bea77656",
   "metadata": {},
   "outputs": [],
   "source": [
    "import json\n",
    "from pathlib import Path\n",
    "import os\n",
    "import shutil\n",
    "import cv2\n",
    "import itertools\n",
    "import numpy as np\n",
    "import pandas as pd\n",
    "from typing import List, Dict\n",
    "from sklearn.model_selection import train_test_split\n",
    "\n",
    "from sklearn.model_selection import KFold, StratifiedKFold\n",
    "import os\n",
    "from pathlib import Path"
   ]
  },
  {
   "cell_type": "code",
   "execution_count": 3,
   "id": "78d5fb6c",
   "metadata": {},
   "outputs": [],
   "source": [
    "DATA_DIR = Path('../data/')"
   ]
  },
  {
   "cell_type": "code",
   "execution_count": 4,
   "id": "0d51e674",
   "metadata": {},
   "outputs": [],
   "source": [
    "# Read .jsonl file and convert it to a list of dicts\n",
    "# The dicts contain IDs, class names and segmentation masks\n",
    "# from https://www.kaggle.com/code/leonidkulyk/eda-hubmap-hhv-interactive-annotations\n",
    "with open(DATA_DIR / 'cleaned_polygons.jsonl', 'r') as json_file:\n",
    "    json_labels = [json.loads(line) for line in json_file]\n",
    "\n",
    "id_to_annotation = {j['id']: j['annotations'] for j in json_labels}"
   ]
  },
  {
   "cell_type": "code",
   "execution_count": 5,
   "id": "ba2fbfaa",
   "metadata": {},
   "outputs": [],
   "source": [
    "# Define a conversion between class name and number\n",
    "id_dict = {'blood_vessel': 0, 'glomerulus': 1, 'unsure': 2}"
   ]
  },
  {
   "cell_type": "code",
   "execution_count": 5,
   "id": "b58d386c",
   "metadata": {},
   "outputs": [],
   "source": [
    "# Function to copy images and transform labels to \n",
    "# coco formatted .txt files\n",
    "def tile_to_coco(tile_id, annotations, output_folder: Path):\n",
    "    # Copy image\n",
    "    shutil.copyfile(DATA_DIR / f'train/{tile_id}.tif', output_folder / f'{tile_id}.tif')\n",
    "    \n",
    "    # Create text file and write formatted labels to it\n",
    "    with open(output_folder / f'{tile_id}.txt', 'w') as text_file:\n",
    "        for annotation in annotations:\n",
    "            \n",
    "            class_id = id_dict[annotation['type']]\n",
    "            if class_id == 2:\n",
    "                continue\n",
    "            flat_mask_polygon = list(itertools.chain(*annotation['coordinates'][0]))\n",
    "            # Divide by 512 because coco labels expect positions between 0 and 1\n",
    "            # not pixel indices\n",
    "            array = np.array(flat_mask_polygon)/512.\n",
    "            text_file.write(f'{class_id} {\" \".join(map(str, array))}\\n')\n"
   ]
  },
  {
   "cell_type": "code",
   "execution_count": 6,
   "id": "a8730d0d",
   "metadata": {},
   "outputs": [],
   "source": [
    "meta = pd.read_csv(DATA_DIR / 'tile_meta.csv')"
   ]
  },
  {
   "cell_type": "code",
   "execution_count": 8,
   "id": "80eb311a",
   "metadata": {},
   "outputs": [
    {
     "data": {
      "text/plain": [
       "3    5400\n",
       "2    1211\n",
       "1     422\n",
       "Name: dataset, dtype: int64"
      ]
     },
     "execution_count": 8,
     "metadata": {},
     "output_type": "execute_result"
    }
   ],
   "source": [
    "meta.dataset.value_counts()"
   ]
  },
  {
   "cell_type": "code",
   "execution_count": 9,
   "id": "42cbb8de",
   "metadata": {},
   "outputs": [],
   "source": [
    "rows = []\n",
    "with open(f'{DATA_DIR}/cleaned_polygons.jsonl', 'r') as json_file:\n",
    "    for line in json_file:\n",
    "        data = json.loads(line)\n",
    "        row = dict({'id': data['id']})\n",
    "        coords = []\n",
    "        for ann in data['annotations']:\n",
    "            if ann['type'] == 'blood_vessel':\n",
    "                coords.append(ann['coordinates'])\n",
    "        row['annotation'] = coords\n",
    "        \n",
    "        rows.append(row)\n",
    "df = pd.DataFrame(rows)"
   ]
  },
  {
   "cell_type": "code",
   "execution_count": 10,
   "id": "1ccceb61",
   "metadata": {},
   "outputs": [],
   "source": [
    "df = df.merge(meta, on='id')"
   ]
  },
  {
   "cell_type": "code",
   "execution_count": 12,
   "id": "699cd47b",
   "metadata": {},
   "outputs": [
    {
     "data": {
      "text/plain": [
       "1    0.310472\n",
       "2    0.272505\n",
       "3    0.251072\n",
       "4    0.165952\n",
       "Name: source_wsi, dtype: float64"
      ]
     },
     "execution_count": 12,
     "metadata": {},
     "output_type": "execute_result"
    }
   ],
   "source": [
    "df.source_wsi.value_counts(1)"
   ]
  },
  {
   "cell_type": "code",
   "execution_count": 17,
   "id": "1ad2a4da",
   "metadata": {},
   "outputs": [
    {
     "data": {
      "text/plain": [
       "3.982921233749681"
      ]
     },
     "execution_count": 17,
     "metadata": {},
     "output_type": "execute_result"
    }
   ],
   "source": [
    "1 / 0.251072"
   ]
  },
  {
   "cell_type": "code",
   "execution_count": 18,
   "id": "9b8b619c",
   "metadata": {},
   "outputs": [],
   "source": [
    "num_dict = {1: 3, 2: 3, 3: 4, 3: 5}"
   ]
  },
  {
   "cell_type": "code",
   "execution_count": null,
   "id": "7fe33dbc",
   "metadata": {},
   "outputs": [],
   "source": [
    "# Read data\n",
    "to_augment = staintools.read_image(\"./data/my_image_to_augment.png\")\n",
    "\n",
    "# Standardize brightness (optional, can improve the tissue mask calculation)\n",
    "to_augment = staintools.LuminosityStandardizer.standardize(to_augment)\n",
    "\n",
    "# Stain augment\n",
    "augmentor = staintools.StainAugmentor(method='vahadane', sigma1=0.2, sigma2=0.2)\n",
    "augmentor.fit(to_augment)\n",
    "augmented_images = []\n",
    "for _ in range(100):\n",
    "    augmented_image = augmentor.pop()\n",
    "    augmented_images.append(augmented_image)"
   ]
  }
 ],
 "metadata": {
  "kernelspec": {
   "display_name": "hubmap",
   "language": "python",
   "name": "hubmap"
  },
  "language_info": {
   "codemirror_mode": {
    "name": "ipython",
    "version": 3
   },
   "file_extension": ".py",
   "mimetype": "text/x-python",
   "name": "python",
   "nbconvert_exporter": "python",
   "pygments_lexer": "ipython3",
   "version": "3.9.17"
  }
 },
 "nbformat": 4,
 "nbformat_minor": 5
}
